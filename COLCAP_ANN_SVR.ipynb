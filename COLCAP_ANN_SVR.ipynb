{
  "cells": [
    {
      "cell_type": "markdown",
      "metadata": {
        "id": "cxnY0rsVKBfq"
      },
      "source": [
        "# MOC-TEML:\n",
        "## CASO DE ESTUDIO: PREDICCIÓN DE TENDENCIA EN LOS ÍNDICES BURSÁTILES DE LA BOLSA DE VALORES DE COLOMBIA\n",
        "### Índice Bursátil: COLCAP"
      ]
    },
    {
      "cell_type": "markdown",
      "metadata": {
        "id": "la6wNMalKBfs"
      },
      "source": [
        "\n",
        "# Importación de librerías\n",
        "\n",
        "Se importan las librerías necesarias para el tratamiento de datos y la implementación de los modelos."
      ]
    },
    {
      "cell_type": "code",
      "execution_count": null,
      "metadata": {
        "colab": {
          "base_uri": "https://localhost:8080/",
          "height": 34
        },
        "id": "CvuYfDCyKBft",
        "outputId": "468dd174-a425-4185-f717-de14dce9ba30",
        "scrolled": true
      },
      "outputs": [
        {
          "name": "stderr",
          "output_type": "stream",
          "text": [
            "Using TensorFlow backend.\n"
          ]
        }
      ],
      "source": [
        "\n",
        "import pandas as pd\n",
        "import numpy as np \n",
        "import datetime\n",
        "import matplotlib.pyplot as plt\n",
        "\n",
        "import matplotlib.pylab as plt\n",
        "%matplotlib inline\n",
        "plt.rcParams['figure.figsize'] = (8, 4)\n",
        "plt.style.use('fast')\n",
        "\n",
        "from keras.models import Sequential\n",
        "from keras.layers import Dense,Activation,Flatten\n",
        "from sklearn.preprocessing import MinMaxScaler"
      ]
    },
    {
      "cell_type": "markdown",
      "metadata": {
        "id": "1-Acy_rEKBfz"
      },
      "source": [
        "# Selección de información\n",
        "\n",
        "Se importa la información desde el archivo de origen y se construye un dataframe con la incormación del índice bursátil analizado."
      ]
    },
    {
      "cell_type": "code",
      "execution_count": null,
      "metadata": {
        "id": "_3ni0LorKHtg"
      },
      "outputs": [],
      "source": [
        "#from pylab import *\n",
        "#from google.colab import files"
      ]
    },
    {
      "cell_type": "code",
      "execution_count": null,
      "metadata": {
        "id": "PEuqPfdWKLo9"
      },
      "outputs": [],
      "source": [
        "#!rm 'Indices Consolidado.xlsx'\n",
        "#uploaded = files.upload()"
      ]
    },
    {
      "cell_type": "code",
      "execution_count": null,
      "metadata": {
        "id": "ZoaGYUCMKRS8"
      },
      "outputs": [],
      "source": [
        "#import io\n",
        "#df = pd.read_excel(io.BytesIO(uploaded['Indices Consolidado.xlsx']),sheet_name='Data', index_col='Fecha 3', parse_dates=True)"
      ]
    },
    {
      "cell_type": "code",
      "execution_count": null,
      "metadata": {
        "id": "Z9_oYc8zKBf0"
      },
      "outputs": [],
      "source": [
        "df=pd.read_excel('Indices Consolidado.xlsx',sheet_name='Data', index_col='Fecha 3', parse_dates=True) \n",
        "df = df[df['Indice']=='COLCAP']\n",
        "df=df.drop(columns=['Source.Name', 'Fecha', 'Fecha 2', 'Indice', 'Valor Ayer', 'Variacion %', 'Variacion Absoluta', 'Variacion 12 meses', 'Variacion Anual'])\n",
        "print(df.shape)"
      ]
    },
    {
      "cell_type": "markdown",
      "metadata": {
        "id": "volOq4ikKBf3"
      },
      "source": [
        "#### Se visualiza un resumen de la información importada y se presenta la gráfica de la serie de tiempo a analizar."
      ]
    },
    {
      "cell_type": "code",
      "execution_count": null,
      "metadata": {
        "id": "5MeC7H2GKBf4"
      },
      "outputs": [],
      "source": [
        "df.describe().transpose()"
      ]
    },
    {
      "cell_type": "code",
      "execution_count": null,
      "metadata": {
        "id": "ksPl56usKBf7"
      },
      "outputs": [],
      "source": [
        "df.head()"
      ]
    },
    {
      "cell_type": "code",
      "execution_count": null,
      "metadata": {
        "id": "DVNASiIJpwLZ"
      },
      "outputs": [],
      "source": [
        "plt.plot(df.values)"
      ]
    },
    {
      "cell_type": "markdown",
      "metadata": {
        "id": "rQWlx5djKBgB"
      },
      "source": [
        "# Preparar el Data Set\n",
        "\n",
        "Se prepara el data set, teniendo en cuenta que el codelo corresponde a una serie de tiempo se construye un vector de entrada que constituye en los 6 días anteriores para pronosticar el día 7, teniendo en cuenta una semana como referencia.\n",
        "El dataframe se conforma con una columna por cada día de la semana anterior al día pronosticado.\n",
        "Finalmente se normalizan los datos con el min max scaler."
      ]
    },
    {
      "cell_type": "code",
      "execution_count": null,
      "metadata": {
        "id": "iYP0ibe4KBgB"
      },
      "outputs": [],
      "source": [
        "PASOS=6\n",
        "\n",
        "\n",
        "def series_to_supervised(data, n_in=1, n_out=1, dropnan=True):\n",
        "    n_vars = 1 if type(data) is list else data.shape[1]\n",
        "    df = pd.DataFrame(data)\n",
        "    cols, names = list(), list()\n",
        "    \n",
        "    for i in range(n_in, 0, -1):\n",
        "        cols.append(df.shift(i))\n",
        "        names += [('var%d(t-%d)' % (j+1, i)) for j in range(n_vars)]\n",
        "    \n",
        "    for i in range(0, n_out):\n",
        "        cols.append(df.shift(-i))\n",
        "        if i == 0:\n",
        "            names += [('var%d(t)' % (j+1)) for j in range(n_vars)]\n",
        "        else:\n",
        "            names += [('var%d(t+%d)' % (j+1, i)) for j in range(n_vars)]\n",
        "    \n",
        "    agg = pd.concat(cols, axis=1)\n",
        "    agg.columns = names\n",
        "    \n",
        "    if dropnan: \n",
        "        agg.dropna(inplace=True)\n",
        "    return agg\n",
        " \n",
        "\n",
        "\n",
        "values = df.values\n",
        "\n",
        "values = values.astype('float32')\n",
        "\n",
        "scaler = MinMaxScaler(feature_range=(-1, 1))\n",
        "values=values.reshape(-1, 1) \n",
        "scaled = scaler.fit_transform(values)\n",
        "\n",
        "reframed = series_to_supervised(scaled, PASOS, 1)\n",
        "reframed.head()"
      ]
    },
    {
      "cell_type": "markdown",
      "metadata": {
        "id": "s5jvI7urKBgF"
      },
      "source": [
        "\n",
        "# Dividir los datos en conjuntos de entrenamiento y testeo\n",
        "\n",
        "Se realiza la división de los datos en el conjunto de entrenamiento y de testeo."
      ]
    },
    {
      "cell_type": "code",
      "execution_count": null,
      "metadata": {
        "id": "lCfzXQDqgVJ-"
      },
      "outputs": [],
      "source": [
        "values = reframed.values\n",
        "\n",
        "data_long = reframed.shape\n",
        "data_long = data_long[0]\n",
        "\n",
        "model_dataset_long = 0.75\n",
        "\n",
        "model_dataset_long = round(data_long*model_dataset_long )\n",
        "\n",
        "model_values = values[:model_dataset_long, :]\n",
        "test_values = values[model_dataset_long:, :]"
      ]
    },
    {
      "cell_type": "code",
      "execution_count": null,
      "metadata": {
        "id": "Zcy3DKEig5Zo"
      },
      "outputs": [],
      "source": [
        "print(reframed.shape, model_values.shape, test_values.shape)"
      ]
    },
    {
      "cell_type": "code",
      "execution_count": null,
      "metadata": {
        "id": "P32SFMO7KBgG"
      },
      "outputs": [],
      "source": [
        "split_train = 10\n",
        "train_dataset= 1-(1/split_train)\n",
        "\n",
        "model_data_long = model_values.shape\n",
        "model_data_long = model_data_long[0]\n",
        "\n",
        "n_train_days = round(model_data_long*train_dataset )\n",
        "train = model_values[:n_train_days, :]\n",
        "test = model_values[n_train_days:, :]\n",
        "\n",
        "x_train, y_train = train[:, :-1], train[:, -1]\n",
        "x_val, y_val = test[:, :-1], test[:, -1]\n",
        "\n",
        "x_train = x_train.reshape((x_train.shape[0], 1, x_train.shape[1]))\n",
        "x_val = x_val.reshape((x_val.shape[0], 1, x_val.shape[1]))\n",
        "print(x_train.shape, y_train.shape, x_val.shape, y_val.shape)"
      ]
    },
    {
      "cell_type": "markdown",
      "metadata": {
        "id": "9HF-M8rnKBgJ"
      },
      "source": [
        "# Seleccionar técnica de modelado\n",
        "\n",
        "Se modela el problema como una serie de tiempo donde se considera que el valor del índice varía en el tiempo. Es decir que corresponde a un problema de aprendizaje supervisado de regresión. Los vectores de entrada corresponden al valor del índice en los 6 días inmediatamente anteriores."
      ]
    },
    {
      "cell_type": "markdown",
      "metadata": {
        "id": "ASCjGQZSKBgJ"
      },
      "source": [
        "# Seleccionar Algoritmo 1 - ANN\n",
        "\n",
        "El primer modelo corresponde a una red neuronal artificial del tipo perceptrón multicapa."
      ]
    },
    {
      "cell_type": "markdown",
      "metadata": {
        "id": "qThFamorKBgK"
      },
      "source": [
        "# Definir Hiperparámetros y crear modelo\n",
        "\n",
        "Para este perceptrón multicapa se define una red neuronal de la siguiente forma:\n",
        "    - Una capa de entrada conformada por 6 neuronas dados los 6 días anteriores de referencia.\n",
        "    - Una capa oculta con 6 neurona y una función de activación tangenete hiperbólica."
      ]
    },
    {
      "cell_type": "code",
      "execution_count": null,
      "metadata": {
        "id": "RJoBb7J-KBgK"
      },
      "outputs": [],
      "source": [
        "def crear_modeloFF():\n",
        "    model = Sequential() \n",
        "    model.add(Dense(PASOS, input_shape=(1,PASOS),activation='tanh'))\n",
        "    model.add(Flatten())\n",
        "    model.add(Dense(1, activation='tanh'))\n",
        "    model.compile(loss='mean_absolute_error',optimizer='Adam',metrics=[\"mse\"])\n",
        "    model.summary()\n",
        "    return model"
      ]
    },
    {
      "cell_type": "markdown",
      "metadata": {
        "id": "dye7GIIHKBgN"
      },
      "source": [
        "# Entrenamiento del algoritmo\n",
        "\n",
        "Se entrena la red neuronal con la parametrización creada y en 100 épocas."
      ]
    },
    {
      "cell_type": "code",
      "execution_count": null,
      "metadata": {
        "id": "svp9rJpqKBgN",
        "scrolled": true
      },
      "outputs": [],
      "source": [
        "EPOCHS=100\n",
        "\n",
        "model = crear_modeloFF()\n",
        "\n",
        "history=model.fit(x_train,y_train,epochs=EPOCHS,validation_data=(x_val,y_val),batch_size=PASOS)"
      ]
    },
    {
      "cell_type": "markdown",
      "metadata": {
        "id": "d75ItPAZKBgQ"
      },
      "source": [
        "## Se realiza la predicción con los datos de testeo\n",
        "\n",
        "Se presentan unos resultados iniciales del entrenamiento normalizado "
      ]
    },
    {
      "cell_type": "code",
      "execution_count": null,
      "metadata": {
        "id": "yWKwWuo7KBgQ"
      },
      "outputs": [],
      "source": [
        "results=model.predict(x_val)\n",
        "plt.scatter(range(len(y_val)),y_val,c='g')\n",
        "plt.scatter(range(len(results)),results,c='r')\n",
        "plt.title('validate')\n",
        "plt.show()"
      ]
    },
    {
      "cell_type": "code",
      "execution_count": null,
      "metadata": {
        "id": "IeTJRZdyKBgU"
      },
      "outputs": [],
      "source": [
        "plt.plot(history.history['loss'])\n",
        "plt.title('loss')\n",
        "plt.plot(history.history['val_loss'])\n",
        "plt.title('validate loss')\n",
        "plt.show()"
      ]
    },
    {
      "cell_type": "code",
      "execution_count": null,
      "metadata": {
        "id": "y7KQqQGhKBgX"
      },
      "outputs": [],
      "source": [
        "#plt.title('Accuracy')\n",
        "#plt.plot(history.history['mean_squared_error'])\n",
        "#plt.show()"
      ]
    },
    {
      "cell_type": "code",
      "execution_count": null,
      "metadata": {
        "id": "_yC6n8OhKBgZ"
      },
      "outputs": [],
      "source": [
        "print(y_val.shape,results.shape)"
      ]
    },
    {
      "cell_type": "markdown",
      "metadata": {
        "id": "DDfCWR1IKBge"
      },
      "source": [
        "# Crossvalidation\n",
        "\n",
        "Se implementa la validación cruzada con la técnica KFold definiendo 10 splits"
      ]
    },
    {
      "cell_type": "code",
      "execution_count": null,
      "metadata": {
        "id": "IDGTeX1PKBgf"
      },
      "outputs": [],
      "source": [
        "from sklearn.model_selection import KFold\n",
        "\n",
        "values = reframed.values\n",
        "x, y = values[:, :-1], values[:, -1]\n",
        "\n",
        "kf=KFold(n_splits=split_train, shuffle=True, random_state=2)\n",
        "for train_index, val_index in kf.split(x):\n",
        "    x_train, x_val = x[train_index],x[val_index]\n",
        "    y_train, y_val = y[train_index],y[val_index]\n",
        "    \n",
        "    x_train = x_train.reshape((x_train.shape[0], 1, x_train.shape[1]))\n",
        "    x_val = x_val.reshape((x_val.shape[0], 1, x_val.shape[1]))\n",
        "    \n",
        "    print(x_train.shape, y_train.shape, x_val.shape, y_val.shape)\n",
        "    \n",
        "    EPOCHS=100\n",
        "    history=model.fit(x_train,y_train,epochs=EPOCHS,validation_data=(x_val,y_val),batch_size=PASOS)\n",
        "    \n",
        "    results=model.predict(x_val)\n",
        "    "
      ]
    },
    {
      "cell_type": "code",
      "execution_count": null,
      "metadata": {
        "id": "LmuVeMNjKBgi"
      },
      "outputs": [],
      "source": [
        "results=model.predict(x_val)\n",
        "plt.scatter(range(len(y_val)),y_val,c='g')\n",
        "plt.scatter(range(len(results)),results,c='r')\n",
        "plt.title('validate')\n",
        "plt.show()"
      ]
    },
    {
      "cell_type": "markdown",
      "metadata": {
        "id": "xOM8XiO4y59k"
      },
      "source": [
        "### Predicción con los datos de testeo"
      ]
    },
    {
      "cell_type": "code",
      "execution_count": null,
      "metadata": {
        "id": "ivIiIrvay9j9"
      },
      "outputs": [],
      "source": [
        "\n",
        "x_test, y_test = test_values[:, :-1], test_values[:, -1]\n",
        "\n",
        "x_test = x_test.reshape((x_test.shape[0], 1, x_test.shape[1]))\n",
        "\n",
        "results_test_ann=model.predict(x_test)"
      ]
    },
    {
      "cell_type": "markdown",
      "metadata": {
        "id": "Vw-_nk7dKBgm"
      },
      "source": [
        "#### Se desnormalizan los datos de la predicción y se construye un Data Frame con el valor del resultado real, el pronóstico obtenido y la diferencia."
      ]
    },
    {
      "cell_type": "code",
      "execution_count": null,
      "metadata": {
        "id": "ztJpN0t-KBgn"
      },
      "outputs": [],
      "source": [
        "compara = pd.DataFrame(np.array([y_test, [x[0] for x in results_test_ann]])).transpose()\n",
        "compara.columns = ['real', 'prediccion']\n",
        "\n",
        "inverted = scaler.inverse_transform(compara.values)\n",
        "\n",
        "compara_ann = pd.DataFrame(inverted)\n",
        "compara_ann.columns = ['real', 'prediccion_ann']\n",
        "compara_ann['diferencia_ann'] = compara_ann['real'] - compara_ann['prediccion_ann']\n",
        "compara_ann.head()"
      ]
    },
    {
      "cell_type": "code",
      "execution_count": null,
      "metadata": {
        "id": "7v2tak9cKBgp"
      },
      "outputs": [],
      "source": [
        "compara_ann.describe()"
      ]
    },
    {
      "cell_type": "markdown",
      "metadata": {
        "id": "vvklAfkWKBgr"
      },
      "source": [
        "#### Sepresenta graficamente los resultados de la comparación"
      ]
    },
    {
      "cell_type": "code",
      "execution_count": null,
      "metadata": {
        "id": "n8SyKNBnKBgs"
      },
      "outputs": [],
      "source": [
        "compara_ann['real'].plot()\n",
        "compara_ann['prediccion_ann'].plot()"
      ]
    },
    {
      "cell_type": "markdown",
      "metadata": {
        "id": "xOCdqNWPKBgu"
      },
      "source": [
        "# Seleccionar Algoritmo 2 - SVR\n",
        "\n",
        "El segundo algoritmo corresponde a support vector machine de regresión o más conocido como SVR."
      ]
    },
    {
      "cell_type": "code",
      "execution_count": null,
      "metadata": {
        "id": "H-afbwTsKBgu"
      },
      "outputs": [],
      "source": [
        "data_long = reframed.shape\n",
        "data_long = data_long[0]\n",
        "\n",
        "train_dataset = 0.75\n",
        "\n",
        "values = reframed.values\n",
        "n_train_days = round(data_long*train_dataset )\n",
        "train = values[:n_train_days, :]\n",
        "test = values[n_train_days:, :]\n",
        "\n",
        "x_train, y_train = train[:, :-1], train[:, -1]\n",
        "x_val, y_val = test[:, :-1], test[:, -1]\n",
        "\n",
        "x_train = x_train.reshape((x_train.shape[0], 1, x_train.shape[1]))\n",
        "x_val = x_val.reshape((x_val.shape[0], 1, x_val.shape[1]))\n",
        "print(x_train.shape, y_train.shape, x_val.shape, y_val.shape)\n",
        "\n",
        "\n",
        "train_long, val_long = x_train.shape, x_val.shape\n",
        "train_long, val_long = train_long[0], val_long[0]\n",
        "y_train=y_train.reshape((train_long,1))\n",
        "x_train=x_train.reshape((train_long,PASOS))\n",
        "x_val=x_val.reshape((val_long,PASOS))\n",
        "y_val=y_val.reshape((val_long,1))\n"
      ]
    },
    {
      "cell_type": "markdown",
      "metadata": {
        "id": "tf1-CUEBKBgx"
      },
      "source": [
        "# Definir de Función Kernel\n",
        "\n",
        "Para este algoritmo se selecciona como Kernel la función en base radial (RBF)."
      ]
    },
    {
      "cell_type": "code",
      "execution_count": null,
      "metadata": {
        "id": "f5pu10ceKBgx"
      },
      "outputs": [],
      "source": [
        "from sklearn.svm import SVR \n",
        "from sklearn.metrics import mean_squared_error \n",
        "import math\n",
        "\n",
        "#model = SVR(C=0.5, kernel='poly', degree=1)\n",
        "model = SVR()\n",
        "print(model)"
      ]
    },
    {
      "cell_type": "markdown",
      "metadata": {
        "id": "QZ6_yhWtKBgz"
      },
      "source": [
        "# Entrenamiento del algoritmo\n",
        "\n",
        "Se entrena la red neuronal con la parametrización creada y en 100 épocas."
      ]
    },
    {
      "cell_type": "code",
      "execution_count": null,
      "metadata": {
        "id": "t78Wb4NSKBg0"
      },
      "outputs": [],
      "source": [
        "\n",
        "model.fit(x_train,y_train)\n",
        "\n",
        "\n",
        "pred_y = model.predict(x_val)\n",
        "\n",
        "score=model.score(x_val,y_val)\n",
        "print(score)\n",
        "\n",
        "mse =mean_squared_error(y_val, pred_y)\n",
        "print(\"Mean Squared Error:\",mse)\n",
        "\n",
        "rmse = math.sqrt(mse)\n",
        "print(\"Root Mean Squared Error:\", rmse)"
      ]
    },
    {
      "cell_type": "markdown",
      "metadata": {
        "id": "PoF_HFguKBg2"
      },
      "source": [
        "# Se realiza la predicción con los datos de testeo\n",
        "\n",
        "Se presentan unos resultados iniciales del entrenamiento normalizado "
      ]
    },
    {
      "cell_type": "code",
      "execution_count": null,
      "metadata": {
        "id": "fbU9iiiCKBg3"
      },
      "outputs": [],
      "source": [
        "pred_y=pred_y.reshape((val_long,1))"
      ]
    },
    {
      "cell_type": "code",
      "execution_count": null,
      "metadata": {
        "id": "WKpnhnB8KBg5"
      },
      "outputs": [],
      "source": [
        "\n",
        "plt.scatter(range(len(y_val)),y_val,c='g')\n",
        "plt.scatter(range(len(pred_y)),pred_y,c='r')\n",
        "plt.title('validate')\n",
        "plt.show()"
      ]
    },
    {
      "cell_type": "code",
      "execution_count": null,
      "metadata": {
        "id": "fQAQ4TAvKBg7"
      },
      "outputs": [],
      "source": [
        "y_val=y_val.reshape((val_long,))\n",
        "results=pred_y\n",
        "print(y_val.shape, results.shape)"
      ]
    },
    {
      "cell_type": "markdown",
      "metadata": {
        "id": "1ie_tDaqKBg9"
      },
      "source": [
        "# Crossvalidation\n",
        "\n",
        "Se implementa la validación cruzada con la técnica KFold definiendo 10 splits"
      ]
    },
    {
      "cell_type": "code",
      "execution_count": null,
      "metadata": {
        "id": "-dbycNLPKBg-"
      },
      "outputs": [],
      "source": [
        "from sklearn.model_selection import KFold\n",
        "\n",
        "values = reframed.values\n",
        "x, y = values[:, :-1], values[:, -1]\n",
        "\n",
        "kf=KFold(n_splits=10, shuffle=True, random_state=2)\n",
        "for train_index, val_index in kf.split(x):\n",
        "    x_train, x_val = x[train_index],x[val_index]\n",
        "    y_train, y_val = y[train_index],y[val_index]\n",
        "    \n",
        "    x_train = x_train.reshape((x_train.shape[0], 1, x_train.shape[1]))\n",
        "    x_val = x_val.reshape((x_val.shape[0], 1, x_val.shape[1]))\n",
        "    \n",
        "    print(x_train.shape, y_train.shape, x_val.shape, y_val.shape)\n",
        "    \n",
        "    train_long, val_long = x_train.shape, x_val.shape\n",
        "    train_long, val_long = train_long[0], val_long[0]\n",
        "    y_train=y_train.reshape((train_long,1))\n",
        "    x_train=x_train.reshape((train_long,PASOS))\n",
        "    x_val=x_val.reshape((val_long,PASOS))\n",
        "    y_val=y_val.reshape((val_long,1))\n",
        "    \n",
        "    model.fit(x_train,y_train)\n",
        "    \n",
        "    pred_y = model.predict(x_val)\n",
        "    \n",
        "    score=model.score(x_val,y_val)\n",
        "    print(score)\n",
        "    \n",
        "    mse =mean_squared_error(y_val, pred_y)\n",
        "    print(\"Mean Squared Error:\",mse)\n",
        "    \n",
        "    rmse = math.sqrt(mse)\n",
        "    print(\"Root Mean Squared Error:\", rmse)"
      ]
    },
    {
      "cell_type": "code",
      "execution_count": null,
      "metadata": {
        "id": "1T2m9eVtKBhA"
      },
      "outputs": [],
      "source": [
        "pred_y=pred_y.reshape((val_long,1))\n",
        "plt.scatter(range(len(y_val)),y_val,c='g')\n",
        "plt.scatter(range(len(pred_y)),pred_y,c='r')\n",
        "plt.title('validate')\n",
        "plt.show()"
      ]
    },
    {
      "cell_type": "code",
      "execution_count": null,
      "metadata": {
        "id": "wF1mNTxZKBhD"
      },
      "outputs": [],
      "source": [
        "y_val=y_val.reshape((val_long,))\n",
        "results=pred_y\n",
        "print(y_val.shape, results.shape)"
      ]
    },
    {
      "cell_type": "markdown",
      "metadata": {
        "id": "ouxJ8omCgutQ"
      },
      "source": [
        "### Predicción con los datos de test"
      ]
    },
    {
      "cell_type": "code",
      "execution_count": null,
      "metadata": {
        "id": "uDtLtBHngtk-"
      },
      "outputs": [],
      "source": [
        "\n",
        "x_test, y_test = test_values[:, :-1], test_values[:, -1]\n",
        "x_test = x_test.reshape((x_test.shape[0], 1, x_test.shape[1]))\n",
        "\n",
        "test_long= x_test.shape\n",
        "test_long = test_long[0]\n",
        "y_test = y_test.reshape((test_long,1))\n",
        "x_test = x_test.reshape((test_long,PASOS))\n",
        "\n",
        "pred_y = model.predict(x_test)\n",
        "\n",
        "pred_y=pred_y.reshape((test_long,1))\n",
        "\n",
        "\n",
        "y_test=y_test.reshape((test_long,))\n",
        "results_test_svr=pred_y\n",
        "print(y_test.shape, results_test_svr.shape)\n",
        "\n"
      ]
    },
    {
      "cell_type": "markdown",
      "metadata": {
        "id": "7yjBawhMKBhG"
      },
      "source": [
        "#### Se desnormalizan los datos de la predicción y se construye un Data Frame con el valor del resultado real, el pronóstico obtenido y la diferencia."
      ]
    },
    {
      "cell_type": "code",
      "execution_count": null,
      "metadata": {
        "id": "G4yb9TPcKBhG"
      },
      "outputs": [],
      "source": [
        "compara = pd.DataFrame(np.array([y_test, [x[0] for x in results_test_svr]])).transpose()\n",
        "compara.columns = ['real', 'prediccion']\n",
        "\n",
        "inverted = scaler.inverse_transform(compara.values)\n",
        "\n",
        "compara_svr = pd.DataFrame(inverted)\n",
        "compara_svr.columns = ['real', 'prediccion_svr']\n",
        "compara_svr['diferencia_svr'] = compara_svr['real'] - compara_svr['prediccion_svr']\n",
        "compara_svr.head()"
      ]
    },
    {
      "cell_type": "code",
      "execution_count": null,
      "metadata": {
        "id": "3fgz_jC3KBhI"
      },
      "outputs": [],
      "source": [
        "compara_svr.describe()"
      ]
    },
    {
      "cell_type": "code",
      "execution_count": null,
      "metadata": {
        "id": "wwmXn0lnKBhL"
      },
      "outputs": [],
      "source": [
        "compara_svr['real'].plot()\n",
        "compara_svr['prediccion_svr'].plot()"
      ]
    },
    {
      "cell_type": "markdown",
      "metadata": {
        "id": "bxdFrQyIKBhN"
      },
      "source": [
        "# Comparación de los datos\n",
        "\n",
        "Se calcula la matriz de desviación para determinar el modelo más preciso hallando la menor desviación media."
      ]
    },
    {
      "cell_type": "code",
      "execution_count": null,
      "metadata": {
        "id": "cSH1F4X4KBhN"
      },
      "outputs": [],
      "source": [
        "resultado_modelos = compara_ann.merge(compara_svr, left_index=True, right_index=True)"
      ]
    },
    {
      "cell_type": "markdown",
      "metadata": {
        "id": "F3ZMTykdKBhQ"
      },
      "source": [
        "### Tabla de resultados de los modelos aplicados"
      ]
    },
    {
      "cell_type": "code",
      "execution_count": null,
      "metadata": {
        "id": "H3I61By0KBhQ"
      },
      "outputs": [],
      "source": [
        "resultado_modelos.head()"
      ]
    },
    {
      "cell_type": "markdown",
      "metadata": {
        "id": "KQrApQ6gKBhT"
      },
      "source": [
        "### Comparación Gráfica de los modelos aplicados"
      ]
    },
    {
      "cell_type": "code",
      "execution_count": null,
      "metadata": {
        "id": "PFRZmkKTKBhU"
      },
      "outputs": [],
      "source": [
        "resultado_modelos['real_y'].plot(c='black')\n",
        "resultado_modelos['prediccion_ann'].plot(c='r')\n",
        "resultado_modelos['prediccion_svr'].plot(c='b')\n",
        "\n",
        "# Propiedades de la imagen\n",
        "plt.rcParams[\"figure.figsize\"] = 8, 4\n",
        "legend(('Real', 'ANN', 'SVR'),\n",
        "  prop = {'size': 10}, loc='upper right',\n",
        "  bbox_to_anchor=(0.2,0.4))\n",
        "\n",
        "xlabel('Días')\n",
        "ylabel('Valor / $')\n",
        "title('Comparación modelos aplicados para índice COLCAP')\n",
        "\n",
        "plt.show()"
      ]
    },
    {
      "cell_type": "code",
      "execution_count": null,
      "metadata": {
        "id": "HPIrDRbsKBhX"
      },
      "outputs": [],
      "source": [
        "from sklearn.metrics import mean_squared_error\n",
        "mse_ann=mean_squared_error(resultado_modelos['real_y'], resultado_modelos['prediccion_ann'])\n",
        "mse_svr=mean_squared_error(resultado_modelos['real_y'], resultado_modelos['prediccion_svr'])\n",
        "\n",
        "rmse_ann=math.sqrt(mse_ann)\n",
        "rmse_svr=math.sqrt(mse_svr)\n",
        "\n",
        "from sklearn.metrics import mean_absolute_error\n",
        "mae_ann=mean_absolute_error(resultado_modelos['real_y'], resultado_modelos['prediccion_ann'])\n",
        "mae_svr=mean_absolute_error(resultado_modelos['real_y'], resultado_modelos['prediccion_svr'])\n"
      ]
    },
    {
      "cell_type": "markdown",
      "metadata": {
        "id": "7jhVIfKuKBha"
      },
      "source": [
        "### Matriz de Mediciones de Error"
      ]
    },
    {
      "cell_type": "code",
      "execution_count": null,
      "metadata": {
        "id": "JvjBXwpYKBha"
      },
      "outputs": [],
      "source": [
        "import seaborn as sns\n",
        "cm = sns.light_palette(\"palegreen\", as_cmap=True, reverse=True)\n",
        "\n",
        "matriz_comparativa = [['SVR',mse_svr,rmse_svr,mae_svr],['ANN',mse_ann,rmse_ann,mae_ann]]\n",
        "matriz_comparativa = pd.DataFrame(matriz_comparativa, columns =['Algoritmo', 'MSE', 'RMSE', 'MAE']) \n",
        "matriz_comparativa.set_index('Algoritmo')\n",
        "\n",
        "print (\"Medidas de error - COLCAP\")\n",
        "print(\"\")\n",
        "matriz_comparativa.style.background_gradient(cmap=cm)"
      ]
    },
    {
      "cell_type": "markdown",
      "metadata": {
        "id": "A4tjX-goKBhd"
      },
      "source": [
        "### Matriz de Desviaciones Porcentuales"
      ]
    },
    {
      "cell_type": "code",
      "execution_count": null,
      "metadata": {
        "id": "mtjqmdBSKBhd"
      },
      "outputs": [],
      "source": [
        "min_MSE = matriz_comparativa['MSE'].min()\n",
        "min_RMSE = matriz_comparativa['RMSE'].min()\n",
        "min_MAE = matriz_comparativa['MAE'].min()\n",
        "\n",
        "matriz_comparativa['Desv MSE'] = (matriz_comparativa['MSE']-min_MSE)/min_MSE\n",
        "matriz_comparativa['Desv RMSE'] = (matriz_comparativa['RMSE']-min_RMSE)/min_RMSE\n",
        "matriz_comparativa['Desv MAE'] = (matriz_comparativa['MAE']-min_MAE)/min_MAE\n",
        "\n",
        "matriz_desviaciones=matriz_comparativa.drop(columns=['MSE', 'RMSE', 'MAE'])\n",
        "\n",
        "matriz_desviaciones.set_index('Algoritmo')\n",
        "\n",
        "print (\"Medidas de desviación - COLCAP\")\n",
        "print(\"\")\n",
        "matriz_desviaciones.style.background_gradient(cmap=cm)"
      ]
    },
    {
      "cell_type": "markdown",
      "metadata": {
        "id": "LB0Qr2WMKBhf"
      },
      "source": [
        "### Desviación Media por Algoritmo"
      ]
    },
    {
      "cell_type": "code",
      "execution_count": null,
      "metadata": {
        "id": "CM3MRZu1KBhg"
      },
      "outputs": [],
      "source": [
        "matriz_desviaciones['desv_media'] = matriz_desviaciones.mean(axis = 1, skipna = True)\n",
        "desv_media=matriz_desviaciones.drop(columns=['Desv MSE', 'Desv RMSE', 'Desv MAE'])\n",
        "desv_media.set_index('Algoritmo')\n",
        "\n",
        "print (\"Desviación media - COLCAP\")\n",
        "print(\"\")\n",
        "desv_media.style.background_gradient(cmap=cm)"
      ]
    },
    {
      "cell_type": "markdown",
      "metadata": {
        "id": "YFtIF2xaKBhi"
      },
      "source": [
        "# Selección del Modelo"
      ]
    },
    {
      "cell_type": "code",
      "execution_count": null,
      "metadata": {
        "id": "L66ouRbpKBhi"
      },
      "outputs": [],
      "source": [
        "desv_media['mejor_algoritmo'] = desv_media['desv_media']==desv_media['desv_media'].min()\n",
        "mejor_algoritmo = desv_media[desv_media['mejor_algoritmo']==True]\n",
        "mejor_algoritmo=mejor_algoritmo.drop(columns=['desv_media', 'mejor_algoritmo'])\n",
        "mejor_algoritmo.head()"
      ]
    }
  ],
  "metadata": {
    "colab": {
      "provenance": []
    },
    "kernelspec": {
      "display_name": "Python 3",
      "language": "python",
      "name": "python3"
    },
    "language_info": {
      "codemirror_mode": {
        "name": "ipython",
        "version": 3
      },
      "file_extension": ".py",
      "mimetype": "text/x-python",
      "name": "python",
      "nbconvert_exporter": "python",
      "pygments_lexer": "ipython3",
      "version": "3.7.3"
    }
  },
  "nbformat": 4,
  "nbformat_minor": 0
}